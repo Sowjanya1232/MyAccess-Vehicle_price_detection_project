{
 "cells": [
  {
   "cell_type": "markdown",
   "metadata": {},
   "source": [
    "# import libraries"
   ]
  },
  {
   "cell_type": "code",
   "execution_count": 8,
   "metadata": {},
   "outputs": [],
   "source": [
    "import pandas as pd\n",
    "import numpy as np\n",
    "from sklearn.preprocessing import StandardScaler,LabelEncoder\n",
    "from sklearn.model_selection import train_test_split\n",
    "from sklearn.linear_model import LinearRegression\n",
    "from sklearn.tree import DecisionTreeRegressor\n",
    "from sklearn.ensemble import RandomForestRegressor\n",
    "from sklearn.metrics import r2_score\n",
    "import matplotlib.pyplot as plt\n",
    "import seaborn as sns\n",
    "import warnings\n",
    "warnings.filterwarnings(\"ignore\")"
   ]
  },
  {
   "cell_type": "markdown",
   "metadata": {},
   "source": [
    "# Reading Dataset"
   ]
  },
  {
   "cell_type": "code",
   "execution_count": 9,
   "metadata": {},
   "outputs": [],
   "source": [
    "df=pd.read_csv(\"vehicle_prices.csv\")"
   ]
  },
  {
   "cell_type": "code",
   "execution_count": 10,
   "metadata": {},
   "outputs": [
    {
     "data": {
      "text/html": [
       "<div>\n",
       "<style scoped>\n",
       "    .dataframe tbody tr th:only-of-type {\n",
       "        vertical-align: middle;\n",
       "    }\n",
       "\n",
       "    .dataframe tbody tr th {\n",
       "        vertical-align: top;\n",
       "    }\n",
       "\n",
       "    .dataframe thead th {\n",
       "        text-align: right;\n",
       "    }\n",
       "</style>\n",
       "<table border=\"1\" class=\"dataframe\">\n",
       "  <thead>\n",
       "    <tr style=\"text-align: right;\">\n",
       "      <th></th>\n",
       "      <th>year</th>\n",
       "      <th>make</th>\n",
       "      <th>model</th>\n",
       "      <th>price</th>\n",
       "    </tr>\n",
       "  </thead>\n",
       "  <tbody>\n",
       "    <tr>\n",
       "      <th>0</th>\n",
       "      <td>2023</td>\n",
       "      <td>Honda</td>\n",
       "      <td>Elevate</td>\n",
       "      <td>14530.0</td>\n",
       "    </tr>\n",
       "    <tr>\n",
       "      <th>1</th>\n",
       "      <td>2023</td>\n",
       "      <td>Honda</td>\n",
       "      <td>e</td>\n",
       "      <td>37140.0</td>\n",
       "    </tr>\n",
       "    <tr>\n",
       "      <th>2</th>\n",
       "      <td>2023</td>\n",
       "      <td>Honda</td>\n",
       "      <td>e Advance</td>\n",
       "      <td>37140.0</td>\n",
       "    </tr>\n",
       "    <tr>\n",
       "      <th>3</th>\n",
       "      <td>2023</td>\n",
       "      <td>Honda</td>\n",
       "      <td>Pilot Elite AWD</td>\n",
       "      <td>52030.0</td>\n",
       "    </tr>\n",
       "    <tr>\n",
       "      <th>4</th>\n",
       "      <td>2023</td>\n",
       "      <td>Honda</td>\n",
       "      <td>Pilot EX-L 8-Passenger AWD</td>\n",
       "      <td>42310.0</td>\n",
       "    </tr>\n",
       "    <tr>\n",
       "      <th>...</th>\n",
       "      <td>...</td>\n",
       "      <td>...</td>\n",
       "      <td>...</td>\n",
       "      <td>...</td>\n",
       "    </tr>\n",
       "    <tr>\n",
       "      <th>1165</th>\n",
       "      <td>2023</td>\n",
       "      <td>Tesla</td>\n",
       "      <td>S Performance</td>\n",
       "      <td>104990.0</td>\n",
       "    </tr>\n",
       "    <tr>\n",
       "      <th>1166</th>\n",
       "      <td>2023</td>\n",
       "      <td>Tesla</td>\n",
       "      <td>X Performance</td>\n",
       "      <td>120990.0</td>\n",
       "    </tr>\n",
       "    <tr>\n",
       "      <th>1167</th>\n",
       "      <td>2023</td>\n",
       "      <td>Tesla</td>\n",
       "      <td>Model 3 Long Range</td>\n",
       "      <td>51990.0</td>\n",
       "    </tr>\n",
       "    <tr>\n",
       "      <th>1168</th>\n",
       "      <td>2023</td>\n",
       "      <td>Tesla</td>\n",
       "      <td>Model X Plaid</td>\n",
       "      <td>119990.0</td>\n",
       "    </tr>\n",
       "    <tr>\n",
       "      <th>1169</th>\n",
       "      <td>2023</td>\n",
       "      <td>Tesla</td>\n",
       "      <td>Model X Long Range</td>\n",
       "      <td>107990.0</td>\n",
       "    </tr>\n",
       "  </tbody>\n",
       "</table>\n",
       "<p>1170 rows × 4 columns</p>\n",
       "</div>"
      ],
      "text/plain": [
       "      year   make                       model     price\n",
       "0     2023  Honda                     Elevate   14530.0\n",
       "1     2023  Honda                           e   37140.0\n",
       "2     2023  Honda                   e Advance   37140.0\n",
       "3     2023  Honda             Pilot Elite AWD   52030.0\n",
       "4     2023  Honda  Pilot EX-L 8-Passenger AWD   42310.0\n",
       "...    ...    ...                         ...       ...\n",
       "1165  2023  Tesla               S Performance  104990.0\n",
       "1166  2023  Tesla               X Performance  120990.0\n",
       "1167  2023  Tesla          Model 3 Long Range   51990.0\n",
       "1168  2023  Tesla               Model X Plaid  119990.0\n",
       "1169  2023  Tesla          Model X Long Range  107990.0\n",
       "\n",
       "[1170 rows x 4 columns]"
      ]
     },
     "execution_count": 10,
     "metadata": {},
     "output_type": "execute_result"
    }
   ],
   "source": [
    "df"
   ]
  },
  {
   "cell_type": "code",
   "execution_count": 11,
   "metadata": {},
   "outputs": [
    {
     "data": {
      "text/plain": [
       "(1170, 4)"
      ]
     },
     "execution_count": 11,
     "metadata": {},
     "output_type": "execute_result"
    }
   ],
   "source": [
    "df.shape"
   ]
  },
  {
   "cell_type": "markdown",
   "metadata": {},
   "source": [
    "# Analysis of Dataset"
   ]
  },
  {
   "cell_type": "code",
   "execution_count": 12,
   "metadata": {},
   "outputs": [
    {
     "name": "stdout",
     "output_type": "stream",
     "text": [
      "<class 'pandas.core.frame.DataFrame'>\n",
      "RangeIndex: 1170 entries, 0 to 1169\n",
      "Data columns (total 4 columns):\n",
      " #   Column  Non-Null Count  Dtype  \n",
      "---  ------  --------------  -----  \n",
      " 0   year    1170 non-null   int64  \n",
      " 1   make    1170 non-null   object \n",
      " 2   model   1170 non-null   object \n",
      " 3   price   1170 non-null   float64\n",
      "dtypes: float64(1), int64(1), object(2)\n",
      "memory usage: 36.7+ KB\n"
     ]
    }
   ],
   "source": [
    "df.info()"
   ]
  },
  {
   "cell_type": "code",
   "execution_count": 13,
   "metadata": {},
   "outputs": [
    {
     "data": {
      "text/html": [
       "<div>\n",
       "<style scoped>\n",
       "    .dataframe tbody tr th:only-of-type {\n",
       "        vertical-align: middle;\n",
       "    }\n",
       "\n",
       "    .dataframe tbody tr th {\n",
       "        vertical-align: top;\n",
       "    }\n",
       "\n",
       "    .dataframe thead th {\n",
       "        text-align: right;\n",
       "    }\n",
       "</style>\n",
       "<table border=\"1\" class=\"dataframe\">\n",
       "  <thead>\n",
       "    <tr style=\"text-align: right;\">\n",
       "      <th></th>\n",
       "      <th>year</th>\n",
       "      <th>price</th>\n",
       "    </tr>\n",
       "  </thead>\n",
       "  <tbody>\n",
       "    <tr>\n",
       "      <th>count</th>\n",
       "      <td>1170.0</td>\n",
       "      <td>1.170000e+03</td>\n",
       "    </tr>\n",
       "    <tr>\n",
       "      <th>mean</th>\n",
       "      <td>2023.0</td>\n",
       "      <td>1.545724e+05</td>\n",
       "    </tr>\n",
       "    <tr>\n",
       "      <th>std</th>\n",
       "      <td>0.0</td>\n",
       "      <td>4.351799e+05</td>\n",
       "    </tr>\n",
       "    <tr>\n",
       "      <th>min</th>\n",
       "      <td>2023.0</td>\n",
       "      <td>7.300000e+03</td>\n",
       "    </tr>\n",
       "    <tr>\n",
       "      <th>25%</th>\n",
       "      <td>2023.0</td>\n",
       "      <td>3.890000e+04</td>\n",
       "    </tr>\n",
       "    <tr>\n",
       "      <th>50%</th>\n",
       "      <td>2023.0</td>\n",
       "      <td>5.377000e+04</td>\n",
       "    </tr>\n",
       "    <tr>\n",
       "      <th>75%</th>\n",
       "      <td>2023.0</td>\n",
       "      <td>9.517500e+04</td>\n",
       "    </tr>\n",
       "    <tr>\n",
       "      <th>max</th>\n",
       "      <td>2023.0</td>\n",
       "      <td>5.000000e+06</td>\n",
       "    </tr>\n",
       "  </tbody>\n",
       "</table>\n",
       "</div>"
      ],
      "text/plain": [
       "         year         price\n",
       "count  1170.0  1.170000e+03\n",
       "mean   2023.0  1.545724e+05\n",
       "std       0.0  4.351799e+05\n",
       "min    2023.0  7.300000e+03\n",
       "25%    2023.0  3.890000e+04\n",
       "50%    2023.0  5.377000e+04\n",
       "75%    2023.0  9.517500e+04\n",
       "max    2023.0  5.000000e+06"
      ]
     },
     "execution_count": 13,
     "metadata": {},
     "output_type": "execute_result"
    }
   ],
   "source": [
    "df.describe()"
   ]
  },
  {
   "cell_type": "code",
   "execution_count": 14,
   "metadata": {},
   "outputs": [
    {
     "data": {
      "text/plain": [
       "year     0\n",
       "make     0\n",
       "model    0\n",
       "price    0\n",
       "dtype: int64"
      ]
     },
     "execution_count": 14,
     "metadata": {},
     "output_type": "execute_result"
    }
   ],
   "source": [
    "df.isna().sum()"
   ]
  },
  {
   "cell_type": "markdown",
   "metadata": {},
   "source": [
    "Droping Null Values"
   ]
  },
  {
   "cell_type": "code",
   "execution_count": 15,
   "metadata": {},
   "outputs": [],
   "source": [
    "df = df.dropna()"
   ]
  },
  {
   "cell_type": "code",
   "execution_count": 16,
   "metadata": {},
   "outputs": [
    {
     "data": {
      "text/plain": [
       "3"
      ]
     },
     "execution_count": 16,
     "metadata": {},
     "output_type": "execute_result"
    }
   ],
   "source": [
    "df.duplicated().sum()"
   ]
  },
  {
   "cell_type": "markdown",
   "metadata": {},
   "source": [
    "Droping Duplicate Values"
   ]
  },
  {
   "cell_type": "code",
   "execution_count": 17,
   "metadata": {},
   "outputs": [],
   "source": [
    "df = df.drop_duplicates()"
   ]
  },
  {
   "cell_type": "code",
   "execution_count": 18,
   "metadata": {},
   "outputs": [
    {
     "data": {
      "text/plain": [
       "(1167, 4)"
      ]
     },
     "execution_count": 18,
     "metadata": {},
     "output_type": "execute_result"
    }
   ],
   "source": [
    "df.shape"
   ]
  },
  {
   "cell_type": "code",
   "execution_count": 19,
   "metadata": {},
   "outputs": [
    {
     "data": {
      "text/plain": [
       "array([], dtype=object)"
      ]
     },
     "execution_count": 19,
     "metadata": {},
     "output_type": "execute_result"
    }
   ],
   "source": [
    "num_cols = df.iloc[:,1:-1].select_dtypes(exclude='object').columns.values\n",
    "num_cols"
   ]
  },
  {
   "cell_type": "code",
   "execution_count": 20,
   "metadata": {},
   "outputs": [],
   "source": [
    "le = LabelEncoder()"
   ]
  },
  {
   "cell_type": "code",
   "execution_count": 21,
   "metadata": {},
   "outputs": [],
   "source": [
    "for i in df.iloc[:,1:-1].columns:\n",
    "    if df[i].dtype == 'object':  \n",
    "        df[i] = le.fit_transform(df[i])"
   ]
  },
  {
   "cell_type": "code",
   "execution_count": 22,
   "metadata": {},
   "outputs": [
    {
     "data": {
      "text/html": [
       "<div>\n",
       "<style scoped>\n",
       "    .dataframe tbody tr th:only-of-type {\n",
       "        vertical-align: middle;\n",
       "    }\n",
       "\n",
       "    .dataframe tbody tr th {\n",
       "        vertical-align: top;\n",
       "    }\n",
       "\n",
       "    .dataframe thead th {\n",
       "        text-align: right;\n",
       "    }\n",
       "</style>\n",
       "<table border=\"1\" class=\"dataframe\">\n",
       "  <thead>\n",
       "    <tr style=\"text-align: right;\">\n",
       "      <th></th>\n",
       "      <th>year</th>\n",
       "      <th>make</th>\n",
       "      <th>model</th>\n",
       "      <th>price</th>\n",
       "    </tr>\n",
       "  </thead>\n",
       "  <tbody>\n",
       "    <tr>\n",
       "      <th>0</th>\n",
       "      <td>2023</td>\n",
       "      <td>17</td>\n",
       "      <td>403</td>\n",
       "      <td>14530.0</td>\n",
       "    </tr>\n",
       "    <tr>\n",
       "      <th>1</th>\n",
       "      <td>2023</td>\n",
       "      <td>17</td>\n",
       "      <td>1139</td>\n",
       "      <td>37140.0</td>\n",
       "    </tr>\n",
       "    <tr>\n",
       "      <th>2</th>\n",
       "      <td>2023</td>\n",
       "      <td>17</td>\n",
       "      <td>1140</td>\n",
       "      <td>37140.0</td>\n",
       "    </tr>\n",
       "    <tr>\n",
       "      <th>3</th>\n",
       "      <td>2023</td>\n",
       "      <td>17</td>\n",
       "      <td>844</td>\n",
       "      <td>52030.0</td>\n",
       "    </tr>\n",
       "    <tr>\n",
       "      <th>4</th>\n",
       "      <td>2023</td>\n",
       "      <td>17</td>\n",
       "      <td>842</td>\n",
       "      <td>42310.0</td>\n",
       "    </tr>\n",
       "    <tr>\n",
       "      <th>...</th>\n",
       "      <td>...</td>\n",
       "      <td>...</td>\n",
       "      <td>...</td>\n",
       "      <td>...</td>\n",
       "    </tr>\n",
       "    <tr>\n",
       "      <th>1165</th>\n",
       "      <td>2023</td>\n",
       "      <td>36</td>\n",
       "      <td>935</td>\n",
       "      <td>104990.0</td>\n",
       "    </tr>\n",
       "    <tr>\n",
       "      <th>1166</th>\n",
       "      <td>2023</td>\n",
       "      <td>36</td>\n",
       "      <td>1106</td>\n",
       "      <td>120990.0</td>\n",
       "    </tr>\n",
       "    <tr>\n",
       "      <th>1167</th>\n",
       "      <td>2023</td>\n",
       "      <td>36</td>\n",
       "      <td>731</td>\n",
       "      <td>51990.0</td>\n",
       "    </tr>\n",
       "    <tr>\n",
       "      <th>1168</th>\n",
       "      <td>2023</td>\n",
       "      <td>36</td>\n",
       "      <td>747</td>\n",
       "      <td>119990.0</td>\n",
       "    </tr>\n",
       "    <tr>\n",
       "      <th>1169</th>\n",
       "      <td>2023</td>\n",
       "      <td>36</td>\n",
       "      <td>744</td>\n",
       "      <td>107990.0</td>\n",
       "    </tr>\n",
       "  </tbody>\n",
       "</table>\n",
       "<p>1167 rows × 4 columns</p>\n",
       "</div>"
      ],
      "text/plain": [
       "      year  make  model     price\n",
       "0     2023    17    403   14530.0\n",
       "1     2023    17   1139   37140.0\n",
       "2     2023    17   1140   37140.0\n",
       "3     2023    17    844   52030.0\n",
       "4     2023    17    842   42310.0\n",
       "...    ...   ...    ...       ...\n",
       "1165  2023    36    935  104990.0\n",
       "1166  2023    36   1106  120990.0\n",
       "1167  2023    36    731   51990.0\n",
       "1168  2023    36    747  119990.0\n",
       "1169  2023    36    744  107990.0\n",
       "\n",
       "[1167 rows x 4 columns]"
      ]
     },
     "execution_count": 22,
     "metadata": {},
     "output_type": "execute_result"
    }
   ],
   "source": [
    "df"
   ]
  },
  {
   "cell_type": "code",
   "execution_count": 23,
   "metadata": {},
   "outputs": [
    {
     "data": {
      "image/png": "[encoded data removed]",
      "text/plain": [
       "<Figure size 720x720 with 2 Axes>"
      ]
     },
     "metadata": {
      "needs_background": "light"
     },
     "output_type": "display_data"
    }
   ],
   "source": [
    "plt.figure(figsize=(10,10))\n",
    "sns.heatmap(df.corr(),annot=True)\n",
    "plt.show()"
   ]
  },
  {
   "cell_type": "code",
   "execution_count": 24,
   "metadata": {},
   "outputs": [
    {
     "data": {
      "text/html": [
       "<div>\n",
       "<style scoped>\n",
       "    .dataframe tbody tr th:only-of-type {\n",
       "        vertical-align: middle;\n",
       "    }\n",
       "\n",
       "    .dataframe tbody tr th {\n",
       "        vertical-align: top;\n",
       "    }\n",
       "\n",
       "    .dataframe thead th {\n",
       "        text-align: right;\n",
       "    }\n",
       "</style>\n",
       "<table border=\"1\" class=\"dataframe\">\n",
       "  <thead>\n",
       "    <tr style=\"text-align: right;\">\n",
       "      <th></th>\n",
       "      <th>year</th>\n",
       "      <th>make</th>\n",
       "      <th>model</th>\n",
       "      <th>price</th>\n",
       "    </tr>\n",
       "  </thead>\n",
       "  <tbody>\n",
       "    <tr>\n",
       "      <th>0</th>\n",
       "      <td>2023</td>\n",
       "      <td>17</td>\n",
       "      <td>403</td>\n",
       "      <td>14530.0</td>\n",
       "    </tr>\n",
       "    <tr>\n",
       "      <th>1</th>\n",
       "      <td>2023</td>\n",
       "      <td>17</td>\n",
       "      <td>1139</td>\n",
       "      <td>37140.0</td>\n",
       "    </tr>\n",
       "  </tbody>\n",
       "</table>\n",
       "</div>"
      ],
      "text/plain": [
       "   year  make  model    price\n",
       "0  2023    17    403  14530.0\n",
       "1  2023    17   1139  37140.0"
      ]
     },
     "execution_count": 24,
     "metadata": {},
     "output_type": "execute_result"
    }
   ],
   "source": [
    "df.head(2)"
   ]
  },
  {
   "cell_type": "code",
   "execution_count": 25,
   "metadata": {},
   "outputs": [],
   "source": [
    "# Divide the data into “Attributes” and “labels”\n",
    "X = df.iloc[:,1:-1]\n",
    "y = df.iloc[:,-1]"
   ]
  },
  {
   "cell_type": "code",
   "execution_count": 26,
   "metadata": {},
   "outputs": [
    {
     "data": {
      "text/plain": [
       "49000.0     7\n",
       "46320.0     5\n",
       "56000.0     4\n",
       "49050.0     4\n",
       "43990.0     4\n",
       "           ..\n",
       "136000.0    1\n",
       "169700.0    1\n",
       "57500.0     1\n",
       "228900.0    1\n",
       "119990.0    1\n",
       "Name: price, Length: 929, dtype: int64"
      ]
     },
     "execution_count": 26,
     "metadata": {},
     "output_type": "execute_result"
    }
   ],
   "source": [
    "y.value_counts()"
   ]
  },
  {
   "cell_type": "code",
   "execution_count": 27,
   "metadata": {},
   "outputs": [],
   "source": [
    "le = LabelEncoder()\n",
    "y = le.fit_transform(y)"
   ]
  },
  {
   "cell_type": "markdown",
   "metadata": {},
   "source": [
    "Splitting Data into Testing and Training"
   ]
  },
  {
   "cell_type": "code",
   "execution_count": 28,
   "metadata": {},
   "outputs": [],
   "source": [
    "# Split 80% of the data to the training set while 20% of the data to test set\n",
    "X_train, X_test, y_train, y_test = train_test_split(X, y, test_size=0.2, random_state=0)"
   ]
  },
  {
   "cell_type": "code",
   "execution_count": 29,
   "metadata": {},
   "outputs": [
    {
     "data": {
      "text/html": [
       "<div>\n",
       "<style scoped>\n",
       "    .dataframe tbody tr th:only-of-type {\n",
       "        vertical-align: middle;\n",
       "    }\n",
       "\n",
       "    .dataframe tbody tr th {\n",
       "        vertical-align: top;\n",
       "    }\n",
       "\n",
       "    .dataframe thead th {\n",
       "        text-align: right;\n",
       "    }\n",
       "</style>\n",
       "<table border=\"1\" class=\"dataframe\">\n",
       "  <thead>\n",
       "    <tr style=\"text-align: right;\">\n",
       "      <th></th>\n",
       "      <th>make</th>\n",
       "      <th>model</th>\n",
       "    </tr>\n",
       "  </thead>\n",
       "  <tbody>\n",
       "    <tr>\n",
       "      <th>905</th>\n",
       "      <td>30</td>\n",
       "      <td>499</td>\n",
       "    </tr>\n",
       "    <tr>\n",
       "      <th>1066</th>\n",
       "      <td>13</td>\n",
       "      <td>30</td>\n",
       "    </tr>\n",
       "    <tr>\n",
       "      <th>597</th>\n",
       "      <td>28</td>\n",
       "      <td>694</td>\n",
       "    </tr>\n",
       "    <tr>\n",
       "      <th>329</th>\n",
       "      <td>14</td>\n",
       "      <td>174</td>\n",
       "    </tr>\n",
       "    <tr>\n",
       "      <th>426</th>\n",
       "      <td>19</td>\n",
       "      <td>866</td>\n",
       "    </tr>\n",
       "    <tr>\n",
       "      <th>...</th>\n",
       "      <td>...</td>\n",
       "      <td>...</td>\n",
       "    </tr>\n",
       "    <tr>\n",
       "      <th>832</th>\n",
       "      <td>15</td>\n",
       "      <td>1008</td>\n",
       "    </tr>\n",
       "    <tr>\n",
       "      <th>45</th>\n",
       "      <td>4</td>\n",
       "      <td>1110</td>\n",
       "    </tr>\n",
       "    <tr>\n",
       "      <th>1135</th>\n",
       "      <td>7</td>\n",
       "      <td>407</td>\n",
       "    </tr>\n",
       "    <tr>\n",
       "      <th>1021</th>\n",
       "      <td>27</td>\n",
       "      <td>297</td>\n",
       "    </tr>\n",
       "    <tr>\n",
       "      <th>1034</th>\n",
       "      <td>0</td>\n",
       "      <td>710</td>\n",
       "    </tr>\n",
       "  </tbody>\n",
       "</table>\n",
       "<p>234 rows × 2 columns</p>\n",
       "</div>"
      ],
      "text/plain": [
       "      make  model\n",
       "905     30    499\n",
       "1066    13     30\n",
       "597     28    694\n",
       "329     14    174\n",
       "426     19    866\n",
       "...    ...    ...\n",
       "832     15   1008\n",
       "45       4   1110\n",
       "1135     7    407\n",
       "1021    27    297\n",
       "1034     0    710\n",
       "\n",
       "[234 rows x 2 columns]"
      ]
     },
     "execution_count": 29,
     "metadata": {},
     "output_type": "execute_result"
    }
   ],
   "source": [
    "X_test"
   ]
  },
  {
   "cell_type": "code",
   "execution_count": 30,
   "metadata": {},
   "outputs": [],
   "source": [
    "# Create a Linear Regression model and fit it\n",
    "lr =LinearRegression()\n",
    "model = lr.fit(X_train,y_train)"
   ]
  },
  {
   "cell_type": "code",
   "execution_count": 31,
   "metadata": {},
   "outputs": [
    {
     "data": {
      "text/plain": [
       "array([428.65640677, 488.96389213, 427.51555921, 481.58410074,\n",
       "       445.60690789, 485.99202638, 429.63380606, 403.13078394,\n",
       "       423.02821432, 443.02662656, 464.45426749, 423.92158457,\n",
       "       453.86533813, 487.19756179, 449.26557038, 464.3884272 ,\n",
       "       418.54992206, 405.30919231, 450.93314027, 470.73633654,\n",
       "       453.28865935, 420.08465893, 451.70849236, 405.01858977,\n",
       "       445.56715654, 404.24554257, 449.33141067, 494.14033865,\n",
       "       508.08712286, 396.36627023, 429.65084235, 489.06495745,\n",
       "       429.55208191, 455.971075  , 502.89141862, 459.31189356,\n",
       "       512.94794688, 488.82768522, 456.23443617, 443.38874816,\n",
       "       456.10275558, 422.92945388, 440.87545956, 470.97360877,\n",
       "       421.31974062, 486.09078682, 486.17818972, 444.98142513,\n",
       "       418.54876962, 465.1126704 , 462.54605149, 443.125387  ,\n",
       "       443.55334889, 491.99369797, 490.74725876, 461.38248886,\n",
       "       424.05326515, 487.42800281, 465.14559054, 409.74320689,\n",
       "       445.11310571, 439.92760655, 456.20151602, 449.61180813,\n",
       "       434.13366092, 493.59542757, 507.56040053, 423.09405461,\n",
       "       472.36645997, 459.94873386, 487.06588121, 496.82728061,\n",
       "       505.69983608, 489.12849286, 449.43017111, 475.55066145,\n",
       "       416.38739754, 445.37646687, 409.77612703, 492.22413899,\n",
       "       514.17167104, 447.42656854, 420.11757908, 422.86361359,\n",
       "       432.4206609 , 443.35582802, 464.35550705, 437.04536514,\n",
       "       423.29157548, 453.20125645, 475.51774131, 396.65119401,\n",
       "       507.7579214 , 492.45910633, 391.31245166, 402.47353347,\n",
       "       390.48376925, 493.46374699, 424.70146298, 444.17883166,\n",
       "       505.76567637, 443.60215289, 489.32831862, 429.6667262 ,\n",
       "       471.17112964, 489.13079775, 496.76144032, 441.92553035,\n",
       "       406.82351901, 470.80217683, 439.87649766, 440.00817825,\n",
       "       434.06782063, 480.20260707, 430.13213456, 436.44712375,\n",
       "       473.2382676 , 440.10693868, 443.53631259, 483.26985938,\n",
       "       508.02128257, 471.30281022, 491.92785768, 449.69468472,\n",
       "       453.49070655, 420.21633952, 446.50480447, 481.5511806 ,\n",
       "       505.83151666, 405.27627217, 413.29858262, 423.98742486,\n",
       "       424.53686225, 461.44832915, 477.36464334, 453.22281906,\n",
       "       449.29849052, 484.68089932, 415.55871513, 429.62697485,\n",
       "       476.66196275, 445.60575545, 466.21154518, 494.90202831,\n",
       "       490.20465258, 449.23265023, 404.82106889, 494.20617894,\n",
       "       488.99228595, 468.79972671, 441.89828897, 483.28006446,\n",
       "       503.05601934, 409.23804717, 436.38128346, 489.42707906,\n",
       "       436.18376259, 451.22942159, 456.26735631, 471.10528935,\n",
       "       409.30388746, 476.82203716, 427.79595667, 390.41792896,\n",
       "       459.37773385, 501.71649846, 390.28624838, 484.35169786,\n",
       "       443.32290787, 483.21422417, 447.57191155, 429.89716722,\n",
       "       454.99482816, 449.77640886, 450.96606042, 503.25354022,\n",
       "       507.85668184, 484.4504583 , 435.79555205, 409.09048274,\n",
       "       451.09889345, 465.07975025, 445.50131625, 472.30061968,\n",
       "       422.89653373, 443.25706758, 471.13820949, 424.73438312,\n",
       "       487.57219337, 436.57880434, 472.82734201, 464.84930923,\n",
       "       456.79407864, 462.09537453, 502.11154021, 452.93789528,\n",
       "       512.58582528, 495.13246933, 384.65690348, 452.83913485,\n",
       "       507.69208111, 488.86060537, 487.50635308, 487.29632223,\n",
       "       432.35482061, 472.16893909, 435.02587873, 496.72852017,\n",
       "       444.72374273, 444.68514382, 493.36498656, 396.51383467,\n",
       "       470.90093726, 432.75669357, 442.99370641, 390.65404875,\n",
       "       404.88690919, 459.44357414, 466.17862503, 433.08589503,\n",
       "       447.32780811, 489.06265256, 507.92252213, 488.95936581,\n",
       "       464.55302792, 387.1259144 , 493.56250743, 429.6837625 ,\n",
       "       464.61886821, 451.48940888, 477.16374859, 492.38873972,\n",
       "       443.22414743, 500.8889685 ])"
      ]
     },
     "execution_count": 31,
     "metadata": {},
     "output_type": "execute_result"
    }
   ],
   "source": [
    "# Predicting the data\n",
    "y_predict=model.predict(X_test)\n",
    "y_predict"
   ]
  },
  {
   "cell_type": "code",
   "execution_count": 32,
   "metadata": {},
   "outputs": [
    {
     "data": {
      "text/plain": [
       "0.0237532988996344"
      ]
     },
     "execution_count": 32,
     "metadata": {},
     "output_type": "execute_result"
    }
   ],
   "source": [
    "from sklearn.metrics import accuracy_score,mean_squared_error\n",
    "r2_score(y_test,y_predict)"
   ]
  },
  {
   "cell_type": "code",
   "execution_count": 33,
   "metadata": {},
   "outputs": [
    {
     "data": {
      "text/plain": [
       "81.39311822630617"
      ]
     },
     "execution_count": 33,
     "metadata": {},
     "output_type": "execute_result"
    }
   ],
   "source": [
    "DT=DecisionTreeRegressor()\n",
    "dt=DT.fit(X_train,y_train)\n",
    "dt_pred=dt.predict(X_test)\n",
    "dt_acc_score=r2_score(y_test,dt_pred)*100\n",
    "(dt_acc_score)"
   ]
  },
  {
   "cell_type": "code",
   "execution_count": 34,
   "metadata": {},
   "outputs": [
    {
     "data": {
      "text/plain": [
       "85.47355337877347"
      ]
     },
     "execution_count": 34,
     "metadata": {},
     "output_type": "execute_result"
    }
   ],
   "source": [
    "RF=RandomForestRegressor()\n",
    "rf=RF.fit(X_train,y_train)\n",
    "rf_pred=rf.predict(X_test)\n",
    "rf_acc_score=r2_score(y_test,rf_pred)*100\n",
    "(rf_acc_score)"
   ]
  },
  {
   "cell_type": "code",
   "execution_count": null,
   "metadata": {},
   "outputs": [],
   "source": []
  },
  {
   "cell_type": "code",
   "execution_count": null,
   "metadata": {},
   "outputs": [],
   "source": []
  }
 ],
 "metadata": {
  "kernelspec": {
   "display_name": "Python 3 (ipykernel)",
   "language": "python",
   "name": "python3"
  },
  "language_info": {
   "codemirror_mode": {
    "name": "ipython",
    "version": 3
   },
   "file_extension": ".py",
   "mimetype": "text/x-python",
   "name": "python",
   "nbconvert_exporter": "python",
   "pygments_lexer": "ipython3",
   "version": "3.9.7"
  }
 },
 "nbformat": 4,
 "nbformat_minor": 4
}
